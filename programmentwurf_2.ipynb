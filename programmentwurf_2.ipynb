{
 "cells": [
  {
   "cell_type": "markdown",
   "metadata": {},
   "source": [
    "# Grundlegende Algorithmen und Verfahren der KI - Programmentwurf 12\n",
    "Q1 2024 TIK\n",
    "\n",
    "Gruppe:\n",
    "- Simon Seifert\n",
    "- Jonas Preusch\n",
    "- Daniel Zängler\n",
    "- Johannes Hoppe"
   ]
  },
  {
   "cell_type": "markdown",
   "metadata": {},
   "source": [
    "## Aufgabe: Partitionsproblem\n",
    "Gegeben ist eine Menge von $N$ Objekten mit den Größen $a_1,a_2,...,a_N \\in \\mathbb{N}$. Gesucht ist eine Teilmenge $P \\subseteq \\{1,2,...,N\\}$ der Objekte, für welche $\\sum{_{i \\in P}}\\ a_i = \\sum{_{i \\notin P}}\\ a_i$ gilt.\n",
    "Mit einem evolutionären Algorithmus soll eine solche Partition $P$ gefunden werden.\n",
    "\n",
    "Mit einem evolutionären Algorithmus soll eine derartige Partition P gefunden werden. Für die\n",
    "Erstellung einer Implementierung sind folgende Anforderungen zu beachten.\n",
    "- Ausgangspunkt ist eine Folge von Größen $a_1, a_2,..., a_N \\in \\mathbb{N}$.\n",
    "- Als genetische Repräsentation eines Lösungsvorschlags dient eine binäre Folge der Länge $N$. Dabei gilt $i \\in P$ genau dann, wenn die $i$-te Stelle der Folge eine 1 ist.\n",
    "- Implementieren Sie die Transformationen Selektion, Mutation und Rekombination.\n",
    "- Wählen Sie $N \\geq 10$ und starten Sie mit einer initialen Population von mindestens 50\n",
    "Individuen.\n",
    "\n",
    "---"
   ]
  },
  {
   "cell_type": "markdown",
   "metadata": {},
   "source": [
    "## Programmentwurf:\n",
    "Für die Lösung dieses Problems haben wir uns für die Pogrammiersprache Python entschieden.\n",
    "Unser Code ist dabei in die folgenden Dateien aufgeteilt:\n",
    "- [`main.py`](main.py)\n",
    "- [`back_end.py`](back_end.py)\n",
    "- [`algorithm.py`](algorithm.py)\n",
    "- [`util.py`](util.py)\n",
    "- [`config_storage.yaml`](config_storage.yaml)\n",
    "- [`set_storage.yaml`](set_storage.yaml)\n",
    "\n",
    "Sowie diesem Python Notebook, im Jupyter .ipynb Format, welches der Dokumentation des Entwurfs dient.\n",
    "\n",
    "### Datei erläuterung:\n",
    "\n",
    "`main.py` dient zum ausführen des Programms.\n",
    "\n",
    "`back_end.py` enthält die grundlegenden Strukturen, welche wir für einen evolutionären Algorithmus benötigen (Selektion, Mutation, Rekombination), sowie Funktionen zur bestimmung der 'Fitness' der Lösungen.\n",
    "\n",
    "`algorithm.py` enthält den eigentlichen Teil des Algorithmus und ruft dafür die Funktionen aus `back_end.py` auf.\n",
    "\n",
    "`util.py` enthält Funktionen, die das Speichern/Laden von verschieden Konfigurationen ermöglichen, sowie eine Funktion um die Ergebnisse schlussendlich in einem 'Pie-Chart' darzustellen.\n",
    "\n",
    "`config_storage.yaml` und `set_storage.yaml` enthalten die Initiale Konfiguration und Datensatz, für das Programm.\n",
    "\n",
    "---"
   ]
  },
  {
   "cell_type": "markdown",
   "metadata": {},
   "source": [
    "## Code:\n",
    "\n",
    "Die folgende Code Erläuterung findet bestmöglich in der selben Reihenfolge statt, die auch das Programm bei Ausführung folgt. \n",
    "\n",
    "#### `main()`\n",
    "Beim Ausführen des Programms werden die Funktionen aus `algorithm.py` und `util.py` importiert und die `main()` Funktion aufgerufen, vorrausgesetzt die Datei ist `\"__main__\"`, also wenn sie ist die Datei, die von Python gestartet wird.\n",
    "\n",
    "Zunächst wird mit `util.load_set()` der Datensatz, über welchen der Algorithmus laufen soll, sowie mit `util.load_config()` die initialen Werte aus `config_storage.yaml` geladen.\n",
    "Diese sind:\n",
    "\n",
    "- `amount_generations` : Anzahl an Generationen, für die der Algorithmus laufen soll\n",
    "- `fitness_selection` : Anzahl an Lösungen einer Generation, die verändert und für die nächste verwendet werden sollen.\n",
    "- `generation_size` : Anzahl der Individuen pro Generation\n",
    "- `good_enough_number` : Fitness-Wert, ab dem eine (ausreichende / 'good enough') Lösung gefunden wurde, sodass vor erreichen der festgelegten maximalen Laufzeit abgebrochen werden kann.\n",
    "- `mutation_factor` : Anzahl der Mutationen, pro Durchführung der Mutations-Funktion\n",
    "- `stagnation_threshold` : TODO "
   ]
  },
  {
   "cell_type": "code",
   "execution_count": null,
   "metadata": {
    "tags": []
   },
   "outputs": [],
   "source": [
    "import algorithm\n",
    "import util\n",
    "\n",
    "\n",
    "def main():\n",
    "    print(util.get_all_configs())\n",
    "\n",
    "    set_1 = util.load_set(1)\n",
    "    run_config2 = util.load_config(1)\n",
    "    results = algorithm.run_algorithm_multiple_times(set_1, *run_config2.values())\n",
    "    util.plot_generations_needed(results)\n",
    "\n",
    "\n",
    "if __name__ == \"__main__\":\n",
    "    main()"
   ]
  },
  {
   "cell_type": "markdown",
   "metadata": {},
   "source": [
    "`run_algorithm_multiple_times()` wird mit den zuvor geladenen Werten aufgerufen."
   ]
  },
  {
   "cell_type": "markdown",
   "metadata": {},
   "source": [
    "#### `run_algorithm_multiple_times()`\n",
    "`run_algorithm_multiple_times()` ruft den eigetntlichen Algorithmus mit `run_evolutionary_algorithm()` mehrfach auf, bis zur Anzahl definitert in `num_runs`. Dabei werden die Restlichen Werte einfach an die Funktion weitergegeben.\n",
    "Die Ergebnisse werden in einer Liste gespeichert und zurück gegeben.  "
   ]
  },
  {
   "cell_type": "code",
   "execution_count": null,
   "metadata": {},
   "outputs": [],
   "source": [
    "def run_algorithm_multiple_times(initial_set, generation_size, amount_generations, fitness_selection, mutation_factor,\n",
    "                                 stagnation_threshold, num_runs, good_enough_number):\n",
    "    results = []\n",
    "\n",
    "    for _ in range(num_runs):\n",
    "        result = run_evolutionary_algorithm(initial_set, generation_size, amount_generations, fitness_selection,\n",
    "                                            mutation_factor, stagnation_threshold,\n",
    "                                            good_enough_number)\n",
    "        results.append(result)\n",
    "\n",
    "    return results"
   ]
  },
  {
   "cell_type": "markdown",
   "metadata": {},
   "source": [
    "#### `run_evolutionary_algorithm()`\n",
    "`run_evolutionary_algorithm()` ist die hautsächliche Funktion des Programms.\n",
    "\n",
    "1. Variablen werden definiert und zunächst gesetzt:\n",
    "    - Die `population` (durch [`initialization()`](#initialization)) geladen.\n",
    "    - Die Lösung mit der momentan besten Fitness wird als `best_solution` gesetzt.\n",
    "    - `stagnation_tracker` wird definiert.\n",
    "2. Die Funktionen werden `generation_size` oft wiederholt:\n",
    "    - Die Population wird nach Fitness sortiert.\n",
    "    - Falls bereits eine Lösung mit ausreichender Fitness gefunden wurde, wird diese zurück gegeben und die Funktion beendet.\n",
    "    - **TODO**: `stagnation_threshold()`\n",
    "    - Die besten Individuen werden für die Mutation und Rekombination ausgewählt (Selektion)\n",
    "    - Diese Individuen werden mutiert ([`mutate()`](#mutate))\n",
    "    - Diese Individuen werden rekombiniert ([`random_crossover()`](#mutate))\n",
    "    - Danach erneut sortiert\n",
    "    - Falls die beste dadurch entstandene Lösung besser ist, als die momentan Beste in `best_solution`, wird `best_solution` mit der neuen überschrieben."
   ]
  },
  {
   "cell_type": "code",
   "execution_count": null,
   "metadata": {
    "tags": []
   },
   "outputs": [],
   "source": [
    "import back_end\n",
    "\n",
    "\n",
    "def run_evolutionary_algorithm(initial_set, amount_solutions, generations, fitness_selection=10, mutation_factor=4,\n",
    "                               stagnation_threshold=3, good_enough_number=2):\n",
    "    # Initialize the population\n",
    "    population = back_end.initialization(initial_set, amount_solutions)\n",
    "    best_solution = back_end.sort_by_fitness(population)[0]  # Get the best solution from the sorted population\n",
    "    stagnation_tracker = 0\n",
    "\n",
    "    # Evolve the population for the specified number of generations\n",
    "    for gen in range(generations):\n",
    "        population = back_end.sort_by_fitness(population)\n",
    "        # if we achieved a good enough solution abort\n",
    "        if best_solution.fitness <= good_enough_number:  # Check the fitness of the best solution\n",
    "            print(f\"found good enough solution: {best_solution.fitness}\")\n",
    "\n",
    "            return {\"solution\": best_solution, \"generations_needed\": gen + 1}\n",
    "        if stagnation_tracker >= stagnation_threshold:\n",
    "            print(\"stagnation threshold reached\")\n",
    "            population = back_end.break_stagnation(population)\n",
    "            stagnation_tracker = 0\n",
    "        stagnation_tracker += 1\n",
    "        # Select the best individuals fraction\n",
    "        population = back_end.best_fitness_selection(population, fitness_selection)\n",
    "        print(f\"best Score: {best_solution.fitness}\")\n",
    "        # Apply mutation to the selected individuals\n",
    "        population = back_end.mutate(population, mutation_factor=mutation_factor)\n",
    "\n",
    "        # Perform crossover to generate the next generation\n",
    "        population = back_end.random_crossover(population, amount_solutions)\n",
    "        population = back_end.sort_by_fitness(population)\n",
    "\n",
    "        # Update the best solution if necessary\n",
    "        if population[0].fitness < best_solution.fitness:  # Check the fitness of the best solution\n",
    "            best_solution = population[0]\n",
    "\n",
    "    return {\"solution\": best_solution, \"generations_needed\": generations}"
   ]
  },
  {
   "cell_type": "markdown",
   "metadata": {},
   "source": [
    "#### `initialization()`\n",
    "\n",
    "-> Bringt Werte aus dem initialen Datensatz in Form der Klasse [`Solution`](#solution)"
   ]
  },
  {
   "cell_type": "code",
   "execution_count": null,
   "metadata": {},
   "outputs": [],
   "source": [
    "def initialization(initial_set, amount_solutions):\n",
    "    return [Individual(initial_set) for _ in range(amount_solutions)]"
   ]
  },
  {
   "cell_type": "markdown",
   "metadata": {},
   "source": [
    "#### `Solution`\n",
    "Die Klasse besteht aus den Teilen:\n",
    "- `initial_set` : Initialer Datensatzt\n",
    "- `solution` : Zufällig generierte binäre Abfolge, durch [`generate_solutions()`](#generate_solutions)\n",
    "- `total_sum` : Summe der Werte aus `initial_set` (zum Zweck der Berechnung der Fitness)\n",
    "- `partial_sum` : Teilwert **TODO** (zum Zweck der Berechnung der Fitness)\n",
    "- `fitness` : Bewertung der Lösung im Vergleich zum ideal Ergebnis, durch [`calculate_fitness`](#calculate_fitness)\n",
    "\n",
    "Auch enthält sie einen Teil um als 'String' ausgegeben werden zu können."
   ]
  },
  {
   "cell_type": "code",
   "execution_count": null,
   "metadata": {},
   "outputs": [],
   "source": [
    "import random\n",
    "\n",
    "class Individual:\n",
    "    def __str__(self):\n",
    "        return (\n",
    "            f\"Solution: initial_set={self.initial_set}, solution={self.solution}, total_sum={self.total_sum},\"\n",
    "            f\"partial_sum={self.partial_sum}, fitness={self.fitness}\"\n",
    "        )\n",
    "\n",
    "    # first implementation of the fitness function\n",
    "    def calculate_fitness(self):\n",
    "        if (self.partial_sum - self.total_sum / 2) == 0:\n",
    "            return 100\n",
    "        fitness = (abs(self.partial_sum - (self.total_sum / 2)))\n",
    "        return fitness\n",
    "\n",
    "    def calculate_partial_sum(self):\n",
    "        partial_sum = 0\n",
    "        for i in range(len(self.initial_set)):\n",
    "            if self.solution[i] == 1:\n",
    "                partial_sum += self.initial_set[i]\n",
    "        return partial_sum\n",
    "\n",
    "    def generate_solution(self):\n",
    "        return [random.choice([0, 1]) for _ in self.initial_set]\n",
    "\n",
    "    # initial Set is always bigger 10 so no division by 0 possible in fitness\n",
    "    def __init__(self, initial_set):\n",
    "        self.initial_set = initial_set\n",
    "        self.solution = self.generate_solution()\n",
    "        self.total_sum = sum(initial_set)\n",
    "        self.partial_sum = self.calculate_partial_sum()\n",
    "        self.fitness = self.calculate_fitness()"
   ]
  },
  {
   "cell_type": "markdown",
   "metadata": {},
   "source": [
    "#### `calculate_fitness()`\n",
    "-> Berechnung der Fitness\n"
   ]
  },
  {
   "cell_type": "code",
   "execution_count": null,
   "metadata": {},
   "outputs": [],
   "source": [
    "def calculate_fitness(self):\n",
    "        if (self.partial_sum - self.total_sum / 2) == 0:\n",
    "            return 100\n",
    "        fitness = (abs(self.partial_sum - (self.total_sum / 2)))\n",
    "        return fitness"
   ]
  },
  {
   "cell_type": "markdown",
   "metadata": {},
   "source": [
    "#### `calculate_parital_sum()`\n"
   ]
  },
  {
   "cell_type": "markdown",
   "metadata": {},
   "source": [
    "#### `generate_solution()`"
   ]
  },
  {
   "cell_type": "markdown",
   "metadata": {},
   "source": [
    "#### `best_fitness_selection()`\n",
    "Diese Funktion ist für den Selektion in unserem Algorithmus zuständig.\n",
    "`best_fitness_selection()` sortiert die Lösungen anhand ihrer 'Fitness' und gibt die Top-10 dieser zurück.\n",
    "(Überschreibt die `population`-Variable)"
   ]
  },
  {
   "cell_type": "code",
   "execution_count": null,
   "metadata": {},
   "outputs": [],
   "source": [
    "def best_fitness_selection(solutions, output_amount):\n",
    "    return sorted(solutions,key=lambda x: x.fitness, reverse=True)[:output_amount]"
   ]
  },
  {
   "cell_type": "markdown",
   "metadata": {},
   "source": [
    "#### `mutate()`\n",
    "Diese Funktion ist für Mutation in unserem Algorithmus zuständig.\n",
    "`mutate()` ändert eine zufällige Stelle der binären Abfolge (0->1 oder 1->0)\n",
    "\n",
    "**TODO** Anstelle von `random.choice([0, 1])` könnte der Betrag von `solution[i] - 1` genommen werden, damit eine Änderung von 1->1 oder 0->0 nicht mehr möglich ist.\n",
    "(Überschreibt die `population`-Variable)"
   ]
  },
  {
   "cell_type": "code",
   "execution_count": null,
   "metadata": {},
   "outputs": [],
   "source": [
    "import random\n",
    "def mutate(solutions, mutation_factor=1):\n",
    "    # TODO: check if mutation from 1 to 1 should be possilbe, or to just flip values\n",
    "    # chose a mutation_factor between 0 and length of the solution. we will then choose random positions of solution to\n",
    "    # redraw the values,the amount based on the mutation_factor\n",
    "    # we use range() plus len() to choose which positions of the solutions to change\n",
    "    for solution in solutions:\n",
    "        mutations = random.sample(range(len(solution.solution)), mutation_factor)\n",
    "        for i in mutations:\n",
    "            solution.solution[i] = random.choice([0, 1])\n",
    "    return solutions"
   ]
  },
  {
   "cell_type": "markdown",
   "metadata": {},
   "source": [
    "#### `random_crossover()`\n",
    "Diese Funktion ist für die Rekombination in unserem Algorithmus zuständig.\n",
    "`random_crossover()` wählt aus der `population` zufällig zwei 'Eltern' aus, von denen zufällige 'Gen-Paare' miteinader getauscht werden um eine neue Lösung zu generieren.\n",
    "(Überschreibt die `population`-Variable)"
   ]
  },
  {
   "cell_type": "code",
   "execution_count": null,
   "metadata": {},
   "outputs": [],
   "source": [
    "def random_crossover(parent_solutions, num_children):\n",
    "    \"\"\"\n",
    "    Perform random crossover between a list of parent solutions.\n",
    "\n",
    "    This method randomly selects each gene from either parent with equal probability\n",
    "    to produce a specified number of child solutions.\n",
    "\n",
    "    Args:\n",
    "    - parent_solutions (list): A list of parent solutions, where each solution is represented as a list.\n",
    "    - num_children (int): The number of child solutions to generate.\n",
    "\n",
    "    Returns:\n",
    "    - list: A list of child solutions resulting from the crossover operation.\n",
    "    \"\"\"\n",
    "\n",
    "\n",
    "    children = []\n",
    "    for _ in range(num_children):\n",
    "        # Randomly select parents\n",
    "        parent1 = random.choice(parent_solutions)\n",
    "        parent2 = random.choice(parent_solutions)\n",
    "\n",
    "        # Perform random crossover\n",
    "        child=Solution(initial_set=parent1.initial_set)\n",
    "        child.solution = [random.choice(gene_pair) for gene_pair in zip(parent1.solution, parent2.solution)]\n",
    "\n",
    "        children.append(child)\n",
    "\n",
    "    return children"
   ]
  },
  {
   "cell_type": "markdown",
   "metadata": {},
   "source": [
    "#### `run_evolutionary_algorithm()` -> Ergebnis & return\n",
    "([Hauptabschnitt](#run_evolutionary_algorithm))\n",
    "\n",
    "Nach Selektion, Mutation, und Rekombination der ganzen Population, bis zur Anzahl der definierten Generationen, wird die endgültige Population noch ein mal an hand der 'Fitness' sortiert und an [`find_best_solution`](#find_best_solution) zurück gegeben:\n",
    "```python\n",
    "    # Sort the final population by fitness\n",
    "    population.sort(key=lambda x: x.fitness, reverse=True)\n",
    "\n",
    "    return population\n",
    "```"
   ]
  },
  {
   "cell_type": "markdown",
   "metadata": {},
   "source": [
    "#### `find_best_solution()` -> Ergebnis & return\n",
    "\n",
    "([Hauptabschnitt](#find_best_solution))\n",
    "\n",
    "Mit der endgültigen Population, von [`run_evolutionary_algorithm()`](#run_evolutionary_algorithm---ergebnis--return) wird der Eintrag mit der besten 'Fitness' ausgewählt und an [`main()`](#main) zurück gegeben.\n",
    "```python\n",
    "    # Select the best solution from the final population\n",
    "    best_solution = back_end.best_fitness_selection(result_population, 1)[0]\n",
    "\n",
    "    return best_solution\n",
    "```"
   ]
  },
  {
   "cell_type": "markdown",
   "metadata": {},
   "source": [
    "#### `main()` -> Ergebnis\n",
    "\n",
    "([Hauptabschnitt](#main))\n",
    "\n",
    "`main()` gibt zuletzt das beste gefundene Ergebniss als Pie-Chart aus, und das Programm wird beendet.\n",
    "```python\n",
    "    util.plot_generations_needed(results)\n",
    "```"
   ]
  }
 ],
 "metadata": {
  "kernelspec": {
   "display_name": "Python 3",
   "language": "python",
   "name": "python3"
  },
  "language_info": {
   "name": "python",
   "version": "2.7.0"
  }
 },
 "nbformat": 4,
 "nbformat_minor": 2
}
