{
 "cells": [
  {
   "cell_type": "markdown",
   "metadata": {},
   "source": [
    "# Grundlegende Algorithmen und Verfahren der KI - Programmentwurf 12\n",
    "Q1 2024 TIK\n",
    "\n",
    "Gruppe:\n",
    "- Simon Seifert\n",
    "- Jonas Preusch\n",
    "- Daniel Zängler\n",
    "- Johannes Hoppe"
   ]
  },
  {
   "cell_type": "markdown",
   "metadata": {},
   "source": [
    "## Aufgabe: Partitionsproblem\n",
    "Gegeben ist eine Menge von $N$ Objekten mit den Größen $a_1,a_2,...,a_N \\in \\mathbb{N}$. Gesucht ist eine Teilmenge $P \\subseteq \\{1,2,...,N\\}$ der Objekte, für welche $\\sum{_{i \\in P}}\\ a_i = \\sum{_{i \\notin P}}\\ a_i$ gilt.\n",
    "Mit einem evolutionären Algorithmus soll eine solche Partition $P$ gefunden werden.\n",
    "\n",
    "Mit einem evolutionären Algorithmus soll eine derartige Partition P gefunden werden. Für die\n",
    "Erstellung einer Implementierung sind folgende Anforderungen zu beachten.\n",
    "- Ausgangspunkt ist eine Folge von Größen $a_1, a_2,..., a_N \\in \\mathbb{N}$.\n",
    "- Als genetische Repräsentation eines Lösungsvorschlags dient eine binäre Folge der Länge $N$. Dabei gilt $i \\in P$ genau dann, wenn die $i$-te Stelle der Folge eine 1 ist.\n",
    "- Implementieren Sie die Transformationen Selektion, Mutation und Rekombination.\n",
    "- Wählen Sie $N \\geq 10$ und starten Sie mit einer initialen Population von mindestens 50\n",
    "Individuen.\n",
    "\n",
    "---"
   ]
  },
  {
   "cell_type": "markdown",
   "metadata": {},
   "source": [
    "## Programmentwurf:\n",
    "Für die Lösung dieses Problems haben wir uns für die Pogrammiersprache Python entschieden.\n",
    "Unser Code ist dabei in die folgenden Dateien aufgeteilt:\n",
    "- [`main.py`](main.py)\n",
    "- [`back_end.py`](back_end.py)\n",
    "- [`algorithm.py`](algorithm.py)\n",
    "- [`util.py`](util.py)\n",
    "- [`config_storage.yaml`](config_storage.yaml)\n",
    "- [`set_storage.yaml`](set_storage.yaml)\n",
    "\n",
    "Sowie diesem Python Notebook, im Jupyter .ipynb Format, welches der Dokumentation des Entwurfs dient.\n",
    "\n",
    "### Datei erläuterung:\n",
    "\n",
    "`main.py` dient zum ausführen des Programms.\n",
    "\n",
    "`back_end.py` enthält die grundlegenden Strukturen, welche wir für einen evolutionären Algorithmus benötigen (Selektion, Mutation, Rekombination), sowie Funktionen zur bestimmung der 'Fitness' der Lösungen.\n",
    "\n",
    "`algorithm.py` enthält den eigentlichen Teil des Algorithmus und ruft dafür die Funktionen aus `back_end.py` auf.\n",
    "\n",
    "`util.py` enthält Funktionen, die das Speichern/Laden von verschieden Konfigurationen ermöglichen, sowie eine Funktion um die Ergebnisse schlussendlich in einem 'Pie-Chart' darzustellen.\n",
    "\n",
    "`config_storage.yaml` und `set_storage.yaml` enthalten die Initiale Konfiguration und Datensatz, für das Programm.\n",
    "\n",
    "---"
   ]
  },
  {
   "cell_type": "markdown",
   "metadata": {},
   "source": [
    "## Code:\n",
    "\n",
    "Die folgende Code Erläuterung findet bestmöglich in der selben Reihenfolge statt, die auch das Programm bei Ausführung folgt.\n",
    "NOTE: Markdown Links zu verschiedenen Abschnitten scheinen nicht komplett zu funktionieren -> Man landet immer etwas überhalb des eigentlichen Abschnittes\n",
    "\n",
    "#### `main()`\n",
    "Beim Ausführen des Programms werden die Funktionen aus `algorithm.py` und `util.py` importiert und die `main()` Funktion aufgerufen, vorrausgesetzt die Datei ist `\"__main__\"`, also wenn sie ist die Datei, die von Python gestartet wird.\n",
    "\n",
    "Zunächst wird mit [`load_set()`](#load_set) der Datensatz, über welchen der Algorithmus laufen soll, sowie mit [`load_config()`](#load_config) die initialen Werte aus `config_storage.yaml` geladen.\n",
    "Diese sind:\n",
    "\n",
    "- `amount_generations` : Anzahl an Generationen, für die der Algorithmus laufen soll\n",
    "- `fitness_selection` : Anzahl an Lösungen einer Generation, die verändert und für die nächste verwendet werden sollen.\n",
    "- `generation_size` : Anzahl der Individuen pro Generation\n",
    "- `good_enough_number` : Fitness-Wert, ab dem eine (ausreichende / 'good enough') Lösung gefunden wurde, sodass vor erreichen der festgelegten maximalen Laufzeit abgebrochen werden kann.\n",
    "- `mutation_factor` : Anzahl der Mutationen, pro Durchführung der Mutations-Funktion\n",
    "- `stagnation_threshold` : Wert, mit dem eine Stagnation der Population definiert wird (siehe [`break_stagnation()`](#break_stagnation))"
   ]
  },
  {
   "cell_type": "code",
   "execution_count": null,
   "metadata": {
    "tags": []
   },
   "outputs": [],
   "source": [
    "import algorithm\n",
    "import util\n",
    "\n",
    "\n",
    "def main():\n",
    "    # One can create a new configuration one load one of the previously used once.\n",
    "    initial_set = util.random_set(100, 10, 400)\n",
    "    print(initial_set)\n",
    "    util.save_set(initial_set)\n",
    "    generation_size = 50\n",
    "    amount_generations = 50\n",
    "    fitness_selection = 5\n",
    "    mutation_factor = 1\n",
    "    stagnation_threshold = 1\n",
    "    num_runs = 10\n",
    "    good_enough_number = 1\n",
    "    run_config_1 = util.RunConfig(generation_size=generation_size, amount_generations=amount_generations,\n",
    "                                fitness_selection=fitness_selection, mutation_factor=mutation_factor,\n",
    "                               stagnation_threshold=stagnation_threshold, num_runs=num_runs, good_enough_number=good_enough_number)\n",
    "    util.save_config(run_config=run_config_1)\n",
    "    print(util.get_all_configs())\n",
    "    set_1 = util.load_set(1)\n",
    "    run_config2 = util.load_config(1)\n",
    "    results = algorithm.run_algorithm_multiple_times(set_1, *run_config2.values())\n",
    "    util.plot_generations_needed(results)\n",
    "\n",
    "if __name__ == \"__main__\":\n",
    "    main()"
   ]
  },
  {
   "cell_type": "markdown",
   "metadata": {},
   "source": [
    "Außerdem sind hier noch Funktionen zum Generieren eines zufälligen Datensatzes, und zum Speichern dieses, sowie speichern einer neuen Konfiguration. (siehe [Utilities](#utilities))\n",
    "\n",
    "[`run_algorithm_multiple_times()`](#run_algorithm_multiple_times) wird mit den zuvor geladenen Werten aufgerufen.\n",
    "Und [`plot_generations_needed`](#plot_generations_needed) wird zur Ausgabe der Ergebnissene verwendet."
   ]
  },
  {
   "cell_type": "markdown",
   "metadata": {},
   "source": [
    "#### `run_algorithm_multiple_times()`\n",
    "`run_algorithm_multiple_times()` ruft den eigetntlichen Algorithmus mit `run_evolutionary_algorithm()` mehrfach auf, bis zur Anzahl definitert in `num_runs`. Dabei werden die Restlichen Werte einfach an die Funktion weitergegeben.\n",
    "Die Ergebnisse werden in einer Liste gespeichert und zurück gegeben.  "
   ]
  },
  {
   "cell_type": "code",
   "execution_count": null,
   "metadata": {},
   "outputs": [],
   "source": [
    "def run_algorithm_multiple_times(initial_set, generation_size, amount_generations, fitness_selection, mutation_factor,\n",
    "                                 stagnation_threshold, num_runs, good_enough_number):\n",
    "    results = []\n",
    "\n",
    "    for _ in range(num_runs):\n",
    "        result = run_evolutionary_algorithm(initial_set, generation_size, amount_generations, fitness_selection,\n",
    "                                            mutation_factor, stagnation_threshold,\n",
    "                                            good_enough_number)\n",
    "        results.append(result)\n",
    "\n",
    "    return results"
   ]
  },
  {
   "cell_type": "code",
   "execution_count": null,
   "metadata": {
    "tags": []
   },
   "outputs": [],
   "source": [
    "import back_end\n",
    "\n",
    "\n",
    "def run_evolutionary_algorithm(initial_set, amount_solutions, generations, fitness_selection=10, mutation_factor=4,\n",
    "                               stagnation_threshold=3, good_enough_number=2):\n",
    "    # Initialize the population\n",
    "    population = back_end.initialization(initial_set, amount_solutions)\n",
    "    best_solution = back_end.sort_by_fitness(population)[0]  # Get the best solution from the sorted population\n",
    "    stagnation_tracker = 0\n",
    "\n",
    "    # Evolve the population for the specified number of generations\n",
    "    for gen in range(generations):\n",
    "        population = back_end.sort_by_fitness(population)\n",
    "        # if we achieved a good enough solution abort\n",
    "        if best_solution.fitness <= good_enough_number:  # Check the fitness of the best solution\n",
    "            print(f\"found good enough solution: {best_solution.fitness}\")\n",
    "\n",
    "            return {\"solution\": best_solution, \"generations_needed\": gen + 1}\n",
    "        if stagnation_tracker >= stagnation_threshold:\n",
    "            print(\"stagnation threshold reached\")\n",
    "            population = back_end.break_stagnation(population)\n",
    "            stagnation_tracker = 0\n",
    "        stagnation_tracker += 1\n",
    "        # Select the best individuals fraction\n",
    "        population = back_end.best_fitness_selection(population, fitness_selection)\n",
    "        print(f\"best Score: {best_solution.fitness}\")\n",
    "        # Apply mutation to the selected individuals\n",
    "        population = back_end.mutate(population, mutation_factor=mutation_factor)\n",
    "\n",
    "        # Perform crossover to generate the next generation\n",
    "        population = back_end.random_crossover(population, amount_solutions)\n",
    "        population = back_end.sort_by_fitness(population)\n",
    "\n",
    "        # Update the best solution if necessary\n",
    "        if population[0].fitness < best_solution.fitness:  # Check the fitness of the best solution\n",
    "            best_solution = population[0]\n",
    "\n",
    "    return {\"solution\": best_solution, \"generations_needed\": generations}"
   ]
  },
  {
   "cell_type": "markdown",
   "metadata": {},
   "source": [
    "#### `initialization()`\n",
    "\n",
    "-> Bringt Werte aus dem initialen Datensatz in Form der Klasse [`Solution`](#solution)"
   ]
  },
  {
   "cell_type": "code",
   "execution_count": null,
   "metadata": {},
   "outputs": [],
   "source": [
    "def initialization(initial_set, amount_solutions):\n",
    "    return [Individual(initial_set) for _ in range(amount_solutions)]"
   ]
  },
  {
   "cell_type": "markdown",
   "metadata": {},
   "source": [
    "#### `Individual`\n",
    "Die Klasse besteht aus den Teilen:\n",
    "- `initial_set` : Initialer Datensatzt\n",
    "- `solution` : Zufällig generierte binäre Abfolge, durch [`generate_solutions()`](#generate_solutions)\n",
    "- `total_sum` : Summe der Werte aus `initial_set` (zur Berechnung der Fitness)\n",
    "- `partial_sum` : Summe der Werte aus `initial_set`, die die Belegung '1' in der Binären Abfolge haben (zur Berechnung der Fitness)\n",
    "- `fitness` : Bewertung der Lösung im Vergleich zum ideal Ergebnis, durch [`calculate_fitness()`](#calculate_fitness)\n",
    "\n",
    "Auch enthält sie einen Teil um als 'String' ausgegeben werden zu können."
   ]
  },
  {
   "cell_type": "code",
   "execution_count": null,
   "metadata": {},
   "outputs": [],
   "source": [
    "import random\n",
    "\n",
    "class Individual:\n",
    "    def __str__(self):\n",
    "        return (\n",
    "            f\"Solution: initial_set={self.initial_set}, solution={self.solution}, total_sum={self.total_sum},\"\n",
    "            f\"partial_sum={self.partial_sum}, fitness={self.fitness}\"\n",
    "        )\n",
    "\n",
    "    # first implementation of the fitness function\n",
    "    def calculate_fitness(self):\n",
    "        if (self.partial_sum - self.total_sum / 2) == 0:\n",
    "            return 100\n",
    "        fitness = (abs(self.partial_sum - (self.total_sum / 2)))\n",
    "        return fitness\n",
    "\n",
    "    def calculate_partial_sum(self):\n",
    "        partial_sum = 0\n",
    "        for i in range(len(self.initial_set)):\n",
    "            if self.solution[i] == 1:\n",
    "                partial_sum += self.initial_set[i]\n",
    "        return partial_sum\n",
    "\n",
    "    def generate_solution(self):\n",
    "        return [random.choice([0, 1]) for _ in self.initial_set]\n",
    "\n",
    "    # initial Set is always bigger 10 so no division by 0 possible in fitness\n",
    "    def __init__(self, initial_set):\n",
    "        self.initial_set = initial_set\n",
    "        self.solution = self.generate_solution()\n",
    "        self.total_sum = sum(initial_set)\n",
    "        self.partial_sum = self.calculate_partial_sum()\n",
    "        self.fitness = self.calculate_fitness()"
   ]
  },
  {
   "cell_type": "markdown",
   "source": [
    "#### `break_stagnation()`\n",
    "-> Ersetzt einen Teil der Population durch neue zufällige Individuen, zur verhinderung von Stagnation"
   ],
   "metadata": {
    "collapsed": false
   }
  },
  {
   "cell_type": "code",
   "execution_count": null,
   "metadata": {},
   "outputs": [],
   "source": [
    "def break_stagnation(population, new_population_output=20):\n",
    "    new_population = initialization(population[0].initial_set, new_population_output)\n",
    "    population = population[\n",
    "                 :-new_population_output\n",
    "                 ]  # Remove the last new_population_output elements\n",
    "    population.extend(new_population)  # Append the new_population to the population\n",
    "    return population"
   ]
  },
  {
   "cell_type": "markdown",
   "metadata": {},
   "source": [
    "#### `generate_solution()`\n",
    "-> Generiert eine pseudo-zufällige binäre Abfolge"
   ]
  },
  {
   "cell_type": "code",
   "execution_count": null,
   "metadata": {},
   "outputs": [],
   "source": [
    "def generate_solution(self):\n",
    "        return [random.choice([0, 1]) for _ in self.initial_set]"
   ]
  },
  {
   "cell_type": "markdown",
   "metadata": {},
   "source": [
    "#### `calculate_parital_sum()`\n",
    "-> Berechnet die Summe der Elemente, mit Belegung '1'"
   ]
  },
  {
   "cell_type": "code",
   "execution_count": null,
   "metadata": {},
   "outputs": [],
   "source": [
    "def calculate_partial_sum(self):\n",
    "        partial_sum = 0\n",
    "        for i in range(len(self.initial_set)):\n",
    "            if self.solution[i] == 1:\n",
    "                partial_sum += self.initial_set[i]\n",
    "        return partial_sum"
   ]
  },
  {
   "cell_type": "markdown",
   "metadata": {},
   "source": [
    "#### `calculate_fitness()`\n",
    "-> Berechnung der Fitness\n",
    "\n"
   ]
  },
  {
   "cell_type": "code",
   "execution_count": null,
   "metadata": {},
   "outputs": [],
   "source": [
    "def calculate_fitness(self):\n",
    "        if (self.partial_sum - self.total_sum / 2) == 0:\n",
    "            return 100\n",
    "        fitness = (abs(self.partial_sum - (self.total_sum / 2)))\n",
    "        return fitness"
   ]
  },
  {
   "cell_type": "markdown",
   "metadata": {},
   "source": [
    "#### `best_fitness_selection()`\n",
    "Diese Funktion ist für den Selektion in unserem Algorithmus zuständig.\n",
    "`best_fitness_selection()` sortiert die Lösungen anhand ihrer 'Fitness' und gibt standarmäßig die Top-10 dieser zurück."
   ]
  },
  {
   "cell_type": "code",
   "execution_count": null,
   "metadata": {},
   "outputs": [],
   "source": [
    "def best_fitness_selection(solutions, output_amount):\n",
    "    return sort_by_fitness(solutions)[:output_amount]"
   ]
  },
  {
   "cell_type": "markdown",
   "metadata": {},
   "source": [
    "#### `sort_by_fitness`"
   ]
  },
  {
   "cell_type": "code",
   "execution_count": null,
   "metadata": {},
   "outputs": [],
   "source": [
    "def sort_by_fitness(solutions):\n",
    "    sorted_list = sorted(solutions, key=lambda x: x.fitness, reverse=False)\n",
    "    return sorted_list"
   ]
  },
  {
   "cell_type": "markdown",
   "metadata": {},
   "source": [
    "#### `mutate()`\n",
    "Diese Funktion ist für Mutation in unserem Algorithmus zuständig.\n",
    "`mutate()` ändert die Belegung zufälliger Stellen der binären Abfolge (0->1 oder 1->0)"
   ]
  },
  {
   "cell_type": "markdown",
   "source": [
    "#### `run_evolutionary_algorithm()`\n",
    "`run_evolutionary_algorithm()` ist die hautsächliche Funktion des Programms.\n",
    "\n",
    "1. Variablen werden definiert und zunächst gesetzt:\n",
    "    - Die `population` (durch [`initialization()`](#initialization)) geladen.\n",
    "    - Die Lösung mit der momentan besten Fitness wird als `best_solution` gesetzt.\n",
    "    - `stagnation_tracker` wird definiert.\n",
    "2. Die Funktionen werden `generation_size` oft wiederholt:\n",
    "    - Die Population wird nach Fitness sortiert.\n",
    "    - Falls bereits eine Lösung mit ausreichender Fitness gefunden wurde, wird diese zurück gegeben und die Funktion beendet.\n",
    "    - `stagnation_tracker` wird überprüft, dass im Fall einer Stagnation der Population die Funktion [`break_stagnation()`](#break_stagnation) ausgeführt wird, welche Individuen in der Pouplation durch neue zufällige ersetzt.\n",
    "    - Die besten Individuen werden für die Mutation und Rekombination ausgewählt ([`best_fitness_selection()`](#best_fitness_selection)\n",
    "    - Diese Individuen werden mutiert ([`mutate()`](#mutate))\n",
    "    - Diese Individuen werden rekombiniert ([`random_crossover()`](#mutate))\n",
    "    - Danach erneut sortiert\n",
    "    - Falls die beste dadurch entstandene Lösung besser ist, als die momentan Beste in `best_solution`, wird `best_solution` mit der neuen überschrieben."
   ],
   "metadata": {
    "collapsed": false
   }
  },
  {
   "cell_type": "code",
   "execution_count": null,
   "metadata": {},
   "outputs": [],
   "source": [
    "def mutate(solutions, mutation_factor=1):\n",
    "    # chose a mutation_factor between 0 and length of the solution. we will then choose random positions of solution to\n",
    "    # redraw the values,the amount based on the mutation_factor\n",
    "    # we use range() plus len() to choose which positions of the solutions to change\n",
    "    for solution in solutions:\n",
    "        mutations = random.sample(range(len(solution.solution)), mutation_factor)\n",
    "        for i in mutations:\n",
    "            solution.solution[i] == abs(solution.solution[i]-1)\n",
    "                \n",
    "    return solutions"
   ]
  },
  {
   "cell_type": "markdown",
   "metadata": {},
   "source": [
    "#### `random_crossover()`\n",
    "Diese Funktion ist für die Rekombination in unserem Algorithmus zuständig.\n",
    "`random_crossover()` wählt aus der Population zufällig zwei 'Eltern' aus, von denen zufällige 'Gen-Paare' miteinader getauscht werden um eine neue Lösung zu generieren."
   ]
  },
  {
   "cell_type": "code",
   "execution_count": null,
   "metadata": {},
   "outputs": [],
   "source": [
    "def random_crossover(parent_solutions, num_children):\n",
    "    \"\"\"\n",
    "    Perform random crossover between a list of parent solutions.\n",
    "\n",
    "    This method randomly selects each gene from either parent with equal probability\n",
    "    to produce a specified number of child solutions.\n",
    "\n",
    "    Args:\n",
    "    - parent_solutions (list): A list of parent solutions, where each solution is represented as a list.\n",
    "    - num_children (int): The number of child solutions to generate.\n",
    "\n",
    "    Returns:\n",
    "    - list: A list of child solutions resulting from the crossover operation.\n",
    "    \"\"\"\n",
    "\n",
    "    children = []\n",
    "    for _ in range(num_children):\n",
    "        # Randomly select parents\n",
    "        parent1 = random.choice(parent_solutions)\n",
    "        parent2 = random.choice(parent_solutions)\n",
    "\n",
    "        # Perform random crossover\n",
    "        child = Individual(initial_set=parent1.initial_set)\n",
    "        child.solution = [\n",
    "            random.choice(gene_pair)\n",
    "            for gene_pair in zip(parent1.solution, parent2.solution)\n",
    "        ]\n",
    "\n",
    "        children.append(child)\n",
    "\n",
    "    return children"
   ]
  },
  {
   "cell_type": "markdown",
   "metadata": {},
   "source": [
    "### Utilities:"
   ]
  },
  {
   "cell_type": "markdown",
   "metadata": {},
   "source": [
    "#### `load_sets()`\n",
    "-> Einlesen der Daten aus `set_storage.yaml`\n",
    "\n",
    "TODO: Rename `load_sets()`, because of simmilar function name to `load_set()`"
   ]
  },
  {
   "cell_type": "code",
   "execution_count": null,
   "metadata": {},
   "outputs": [],
   "source": [
    "import yaml\n",
    "from typing import List\n",
    "\n",
    "\n",
    "def load_sets() -> List[List[int]]:\n",
    "    with open(SetStorage, \"r\") as infile:\n",
    "        return yaml.safe_load(infile) or []\n",
    "    \n",
    "    \n",
    "SetStorage = \"set_storage.yaml\""
   ]
  },
  {
   "cell_type": "markdown",
   "metadata": {},
   "source": [
    "#### `save_set()`\n",
    "-> Speichern von Daten in `set_storage.yaml`"
   ]
  },
  {
   "cell_type": "code",
   "execution_count": null,
   "metadata": {},
   "outputs": [],
   "source": [
    "def save_set(new_set: List[int]) -> None:\n",
    "    sets = load_sets()\n",
    "    sets.append(new_set)\n",
    "    with open(SetStorage, \"w\") as outfile:\n",
    "        yaml.dump(sets, outfile, default_flow_style=False, allow_unicode=True)"
   ]
  },
  {
   "cell_type": "markdown",
   "metadata": {},
   "source": [
    "#### `save_config()`\n",
    "-> Speichern von Konfigurationen in `config_storage.yaml`"
   ]
  },
  {
   "cell_type": "code",
   "execution_count": null,
   "metadata": {},
   "outputs": [],
   "source": [
    "ConfigStorage = \"config_storage.yaml\"\n",
    "\n",
    "\n",
    "def save_config(run_config) -> None:\n",
    "    config_to_save = run_config.to_dict()\n",
    "    configs = get_all_configs()\n",
    "    configs.append(config_to_save)\n",
    "\n",
    "    with open(ConfigStorage, \"w\") as outfile:\n",
    "        yaml.dump(configs, outfile, default_flow_style=False, allow_unicode=True)"
   ]
  },
  {
   "cell_type": "markdown",
   "metadata": {},
   "source": [
    "#### `load_set()`\n",
    "-> Laden eines gespeicherten Datensatzes"
   ]
  },
  {
   "cell_type": "code",
   "execution_count": null,
   "metadata": {},
   "outputs": [],
   "source": [
    "def load_set(number: int) -> List[int]:\n",
    "    sets = load_sets()\n",
    "    if 0 <= number < len(sets):\n",
    "        return sets[number]\n",
    "    else:\n",
    "        return None"
   ]
  },
  {
   "cell_type": "markdown",
   "metadata": {},
   "source": [
    "#### `load_config()`\n",
    "-> Laden einer gespeicherten Konfiguration"
   ]
  },
  {
   "cell_type": "code",
   "execution_count": null,
   "metadata": {},
   "outputs": [],
   "source": [
    "def load_config(number: int) -> dict:\n",
    "    with open(ConfigStorage, \"r\") as infile:\n",
    "        configs = yaml.safe_load(infile)\n",
    "        if configs and 0 <= number < len(configs):\n",
    "            return configs[number]\n",
    "        else:\n",
    "            return {}"
   ]
  },
  {
   "cell_type": "markdown",
   "metadata": {},
   "source": [
    "#### `get_all_configs()`"
   ]
  },
  {
   "cell_type": "code",
   "execution_count": null,
   "metadata": {},
   "outputs": [],
   "source": [
    "def get_all_configs() -> List[dict]:\n",
    "    with open(ConfigStorage, \"r\") as outfile:\n",
    "        return yaml.safe_load(outfile) or []"
   ]
  },
  {
   "cell_type": "markdown",
   "metadata": {},
   "source": [
    "#### `plot_generations_needed()`\n",
    "-> Darstellen der Ergebnisse als Pie-Chart, mit Hilfe von 'matplotlib'"
   ]
  },
  {
   "cell_type": "code",
   "execution_count": null,
   "metadata": {},
   "outputs": [],
   "source": [
    "from matplotlib import pyplot as plt\n",
    "\n",
    "\n",
    "def plot_generations_needed(results):\n",
    "    generations_needed = [result[\"generations_needed\"] for result in results]\n",
    "    num_runs = len(results)\n",
    "\n",
    "    # Count the frequency of each generation needed\n",
    "    generation_counts = {\n",
    "        gen: generations_needed.count(gen) for gen in set(generations_needed)\n",
    "    }\n",
    "\n",
    "    # Sort the generations by their counts\n",
    "    sorted_generations = sorted(\n",
    "        generation_counts.items(), key=lambda x: x[1], reverse=True\n",
    "    )\n",
    "    labels, counts = zip(*sorted_generations)\n",
    "\n",
    "    max_generations = max(generations_needed)\n",
    "    max_label = f\"Max Gens: {max_generations}\"\n",
    "\n",
    "    # Create a dictionary to store the average fitness score for each generation\n",
    "    average_fitness_scores = {\n",
    "        gen: sum(\n",
    "            result[\"solution\"].fitness\n",
    "            for result in results\n",
    "            if result[\"generations_needed\"] == gen\n",
    "        ) / generation_counts[gen]\n",
    "        for gen in set(generations_needed)\n",
    "    }\n",
    "\n",
    "    # Create the pie chart\n",
    "    plt.figure(figsize=(8, 8))\n",
    "    patches, _, _ = plt.pie(\n",
    "        counts,\n",
    "        labels=labels,\n",
    "        autopct=\"%1.1f%%\",\n",
    "        startangle=140,\n",
    "        textprops={\"fontsize\": 12},\n",
    "    )\n",
    "\n",
    "    # Add the average fitness score inside each pie slice\n",
    "    for patch, (gen, count) in zip(patches, sorted_generations):\n",
    "        patch.set_label(f\"{gen}\\n(Avg. Fitness: {average_fitness_scores[gen]:.2f})\")\n",
    "\n",
    "    plt.title(\n",
    "        f\"Distribution of Generations Needed\\nTotal Runs: {num_runs}\\n{max_label}\",\n",
    "        fontsize=16,\n",
    "    )\n",
    "    plt.axis(\"equal\")  # Equal aspect ratio ensures that pie is drawn as a circle\n",
    "    plt.subplots_adjust(left=0.1, right=0.7, top=0.9, bottom=0.1)  # Adjust layout\n",
    "\n",
    "    plt.legend(\n",
    "        title=\"Average Fitness Score\",\n",
    "        loc=\"center left\",\n",
    "        fontsize=10,\n",
    "        bbox_to_anchor=(1, 0.5),\n",
    "    )\n",
    "\n",
    "    plt.show()"
   ]
  },
  {
   "cell_type": "markdown",
   "metadata": {},
   "source": [
    "---"
   ]
  },
  {
   "cell_type": "markdown",
   "metadata": {},
   "source": [
    "## Tests\n",
    "\n",
    "### Aufgaben:\n",
    "- Überlegen Sie sich ein Testszenario und führen Sie die Tests durch. Bewerten Sie die\n",
    "Ergebnisse.\n",
    "- Lassen Sie die Evolution über eine variable Anzahl an Generationen laufen, um eine Lösung des Problems zu finden Dokumentieren und interpretieren Sie die erhaltenen Ergebnisse.\n",
    "\n",
    "Die Visualisierung der Ergebnisse durch plot_generations_needed in util.py zeigt, wie viele Generationen benötigt wurden, um eine Lösung zu finden, und die durchscnittliche Fitness der Generationen.\n",
    "\n",
    "### Definitionen:\n",
    "#### Fitness:\n",
    "Die Fitness wurde als absolute Differenz der Summe der beiden Teilmengen definiert. Eine kleinere Fitness ist also besser, wobei 0 das optimalste Ergebnis darstellt. Die Fitness einer Generation entspricht die der besten Lösung.\n",
    "\n",
    "#### Good_enough_factor:\n",
    "Da es nicht immer eine optimale Lösung gibt, wurde ein Cutoff-Punkt eingefügt, an dem der Algorithmus abbricht, sofern das Ergebnis zufriedenstellend ist. Dieser wurde als Zahl definiert, könnte jedoch auch als Prozentanteil der Gesamtsumme festgelegt werden.\n",
    "\n",
    "### Ergebnisse:\n",
    "Es wurde eine Funktion implementiert, welche den Algorithmus mehrmals ausführt und die Ergebnisse in einem Pie-Chart visualisiert.\n",
    "Je nach Menge wurden sehr unterschiedliche Ergebnisse festgestellt. Manchmal konnte nach 50 Generationen (als maximale Anzahl festgelegt) kein zufriedenstellendes Ergebnis erzielt werden. Dies geschah natürlich bei sehr ungünstigen Mengen, bei denen eine Zahl größer als die Summe der restlichen war. Auch bei einer zu großen Anzahl von Elementen in einer Menge traten häufiger unbefriedigende Ergebnisse auf. Bei kleineren Mengen wurden oft zufriedenstellende Ergebnisse erzielt.\n",
    "\n",
    "Die erste Implementation des Algorithmus beinhaltete lediglich die notwendigen Schritte Evaluierung, Mutation und Rekombination. Nach einigen Durchläufen zeigte sich, dass der Algorithmus in der Lage war, semi-regelmäßig sinnvolle Ergebnisse zu liefern, jedoch nicht konsistent.\n",
    "\n",
    "Daher wurden einige Optimierungen eingeführt. Durch das Plotten des Fitness-Scores verdeutlichte sich, dass die Fitness generell anstieg, sich jedoch gelegentlich auch verringerte. \n",
    "Die Lösung bestand darin, jedes mal das beste Ergebnis zu speichern und der nächsten Generation hinzuzufügen.\n",
    "Dies bewirkte nicht nur, dass die Fitness nicht mehr sank, sondern auch eine allgemeine Verbesserung.\n",
    "\n",
    "Das zweite Problem war, dass der Algorithmus öfters bei einem lokalen Minimum stagnierte. Um dieses Problem zu minimieren, wurde ein Stagnations-Threshold hinzugefügt, welcher bei Erreichen die Funktion \"break_stagnation\" aufruft. Diese Funktion nimmt als Parameter die Population und die Anzahl der zu ersetzenden schlechtesten Lösungen entgegen. Die Funktion gibt dann eine neue Population zurück, bei der die schlechtesten Lösungen durch neue zufällige ersetzt wurden. Es wurde beobachtet, dass dieser Schritt wirksam war, um die Stagnation zu brechen.\n",
    "Diese Optimierung war hilfreich. Es wurde auch erkannt, dass eine weitere Verbesserung erzielt werden konnte, wenn bis zu ungefähr 90% anstatt der anfänglichen 10% bis 50% der schlechtesten Lösungen ersetzt wurden. Ab 90% jedoch zeigte sich eine Verschlechterung, da die Rekombination mit den besten 10% festgesetzt wurde und bei zufälligen Lösungen die Vorteile der Kombination guter Lösungen verloren gingen.\n",
    "\n",
    "Bezüglich des Mutationsfaktors wurden ähnliche Beobachtungen gemacht. Ist der Wert zu niedrig, stagniert der Algorithmus vermehrt in einem lokalen Optimum. Ist er jedoch zu hoch, gehen wie bei der Stagnation auch hier die Vorteile guter Lösungen durch zu viel Chaos verloren. Auch hier wurde ein fester Wert gefunden, der für den Umfang von Mengen gut funktionierte. Bei deutlich größeren Mengen (200+) war der Mutationsfaktor relativ zu der Menge zu niedrig. Für einen allgemeineren Ansatz könnte man dies ebenfalls prozentual zusammen mit der floor-funktion lösen.\n",
    "\n",
    "Abschließend lässt sich zusammenfassen, dass oft ein Mittelmaß für jegliche Parameter gefunden werden muss. Dieses multiparametrische Optimierungsproblem ist schwer zu lösen. Um diesen wiederum zu optimieren, wäre erneut ein evolutionärer Algorithmus nötig. Dies könnte ad infinitum weitergeführt werden, um sich dem optimalen Ergebnis anzunähern. Jedoch wurde festgestellt, dass durch die Deklarierung des \"good_enough_threshold\" oft deutlich schneller ein gutes Ergebnis erzielt werden konnte. Es wird angenommen, dass nach der Evaluation mehrerer Durchläufe und deren Dokumentation, die Treshhold für dieses Projekt erreicht wurde.\n"
   ]
  }
 ],
 "metadata": {
  "kernelspec": {
   "display_name": "Python 3",
   "language": "python",
   "name": "python3"
  },
  "language_info": {
   "codemirror_mode": {
    "name": "ipython",
    "version": 3
   },
   "file_extension": ".py",
   "mimetype": "text/x-python",
   "name": "python",
   "nbconvert_exporter": "python",
   "pygments_lexer": "ipython3",
   "version": "3.11.8"
  }
 },
 "nbformat": 4,
 "nbformat_minor": 2
}
