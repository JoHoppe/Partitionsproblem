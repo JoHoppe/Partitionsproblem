{
 "cells": [
  {
   "cell_type": "markdown",
   "metadata": {},
   "source": [
    "# Grundlegende Algorithmen und Verfahren der KI - Programmentwurf 12\n",
    "Q1 2024 TIK\n",
    "\n",
    "Gruppe:\n",
    "- Simon Seifert\n",
    "- Jonas Preusch\n",
    "- Daniel Zängler\n",
    "- Johannes Hoppe"
   ]
  },
  {
   "cell_type": "markdown",
   "metadata": {},
   "source": [
    "## Aufgabe: Partitionsproblem\n",
    "Gegeben ist eine Menge von $N$ Objekten mit den Größen $a_1,a_2,...,a_N \\in \\mathbb{N}$. Gesucht ist eine Teilmenge $P \\subseteq \\{1,2,...,N\\}$ der Objekte, für welche $\\sum{_{i \\in P}}\\ a_i = \\sum{_{i \\notin P}}\\ a_i$ gilt.\n",
    "Mit einem evolutionären Algorithmus soll eine solche Partition $P$ gefunden werden.\n",
    "\n",
    "Mit einem evolutionären Algorithmus soll eine derartige Partition P gefunden werden. Für die\n",
    "Erstellung einer Implementierung sind folgende Anforderungen zu beachten.\n",
    "- Ausgangspunkt ist eine Folge von Größen $a_1, a_2,..., a_N \\in \\mathbb{N}$.\n",
    "- Als genetische Repräsentation eines Lösungsvorschlags dient eine binäre Folge der Länge $N$. Dabei gilt $i \\in P$ genau dann, wenn die $i$-te Stelle der Folge eine 1 ist.\n",
    "- Implementieren Sie die Transformationen Selektion, Mutation und Rekombination.\n",
    "- Wählen Sie $N \\geq 10$ und starten Sie mit einer initialen Population von mindestens 50\n",
    "Individuen.\n",
    "\n",
    "---"
   ]
  },
  {
   "cell_type": "markdown",
   "metadata": {},
   "source": [
    "## Programmentwurf:\n",
    "Für die Lösung dieses Problems haben wir uns für die Pogrammiersprache Python entschieden.\n",
    "Unser Code ist dabei in zwei Dateien aufgeteilt:\n",
    "- [`back_end.py`](back_end.py)\n",
    "- [`main.py`](main.py)\n",
    "\n",
    "Sowie diesem Python Notebook, im Jupyter .ipynb Format, welches der Dokumentation des Entwurfs dient.\n",
    "\n",
    "### Datei erläuterung:\n",
    "\n",
    "`back_end.py` enthält die grundlegenden Strukturen, welche wir für einen evolutionären Algorithmus benötigen (Selektion, Mutation, Rekombination), sowie Funktionen zur bestimmung der 'Fitness' der Lösungen und zur Programm-initialisierung.\n",
    "\n",
    "`main.py` dient zum ausführen des Programms. Hier werden die initialen Variablen gesetzt, mit welchen auch direkt die Funktionen aus `back_end.py` aufgerufen werden.\n",
    "\n",
    "---"
   ]
  },
  {
   "cell_type": "markdown",
   "metadata": {},
   "source": [
    "## Code:\n",
    "\n",
    "#### `main()`\n",
    "Beim Ausführen des Programms werden die Funktionen aus `back_end.py` importiert und die `main()` Funktion aufgerufen, vorrausgesetzt die Datei ist `\"__main__\"`.\n",
    "Diese setzt zunächst die initialen Variablen:\n",
    "- `initial_set` : Menge von $N$ Objekten $a_N \\in \\mathbb{N}$\n",
    "- `amount_solutions` : Population an Lösungs-Individuen $P$\n",
    "- `generations` : Anzahl an Generationen, für die der Algorithmus laufen soll\n",
    "- `fitness_selection` : Anzahl an Lösungen einer Generation, die verändert und für die nächste verwendet werden sollen."
   ]
  },
  {
   "cell_type": "code",
   "execution_count": null,
   "metadata": {
    "tags": []
   },
   "outputs": [],
   "source": [
    "import back_end\n",
    "\n",
    "def main():\n",
    "    initial_set = [20, 30, 15, 25, 10, 35, 40, 5, 50, 45]\n",
    "    amount_solutions = 20\n",
    "    generations = 50\n",
    "    fitness_selection = 10\n",
    "\n",
    "    best_solution = find_best_solution(initial_set, amount_solutions, generations, fitness_selection)\n",
    "\n",
    "    print(\"Best solution so far:\")\n",
    "    print(best_solution)\n",
    "\n",
    "\n",
    "if __name__ == \"__main__\":\n",
    "    main()"
   ]
  },
  {
   "cell_type": "markdown",
   "metadata": {},
   "source": [
    "Die Funktion `find_best_solution()` wird mit den gesetzten Variablen aufgerufen, und das Ergebnis wird `best_solution` zugewiesen.\n",
    "`best_solution` wird am Ende des Programmes im Terminal ausgegeben, um das Ergebis des Alogrithmus zu sehen."
   ]
  },
  {
   "cell_type": "markdown",
   "metadata": {},
   "source": [
    "#### `find_best_solution()` \n",
    "`find_best_solution()`  besteht aus 2 Teilen.\n",
    "1. `run_evolutionary_algorithm()` wird aufgerufen (wobei die gleichen Variablen einfach weiter gegeben werden), und einer Variable `result_population` zugewiesen.\n",
    "2. `best_fitness_selection()` wird aufgerufen, um unter den Lösungen von `run_evolutionary_algorithm()` die mit der besten 'Fitness', d.h. die Lösung welche dem Ideal-Ergebnis am nähsten ist, ausgewählt und `best_solution` zugewiesen.\n",
    "\n",
    "Schlussendlich wird `best_solution` zurück an die Main-Funktion geben."
   ]
  },
  {
   "cell_type": "code",
   "execution_count": null,
   "metadata": {},
   "outputs": [],
   "source": [
    "def find_best_solution(initial_set, amount_solutions, generations, fitness_selection):\n",
    "    # Run the evolutionary algorithm\n",
    "    result_population = run_evolutionary_algorithm(initial_set, amount_solutions, generations, fitness_selection)\n",
    "\n",
    "    # Select the best solution from the final population\n",
    "    best_solution = back_end.best_fitness_selection(result_population, 1)[0]\n",
    "\n",
    "    return best_solution"
   ]
  },
  {
   "cell_type": "markdown",
   "metadata": {},
   "source": [
    "#### `run_evolutionary_algorithm()`\n",
    "`run_evolutionary_algorithm()` ruft selbst `back_end.initialization()` auf, um eine initiale Liste an Lösungen zu generieren."
   ]
  },
  {
   "cell_type": "code",
   "execution_count": null,
   "metadata": {
    "tags": []
   },
   "outputs": [],
   "source": [
    "def run_evolutionary_algorithm(initial_set, amount_solutions, generations, fitness_selection):\n",
    "    # Initialize the population\n",
    "    population = back_end.initialization(initial_set, amount_solutions)\n",
    "\n",
    "    # Evolve the population for the specified number of generations\n",
    "    for _ in range(generations):\n",
    "        # Select the best individuals from the population\n",
    "        population = back_end.best_fitness_selection(population, fitness_selection)\n",
    "\n",
    "        # Apply mutation to the selected individuals\n",
    "        population = back_end.mutate(population, mutation_factor=4)\n",
    "\n",
    "        # Perform crossover to generate the next generation\n",
    "        population = back_end.random_crossover(population, amount_solutions)\n",
    "\n",
    "    # Sort the final population by fitness\n",
    "    population.sort(key=lambda x: x.fitness, reverse=True)\n",
    "\n",
    "    return population"
   ]
  },
  {
   "cell_type": "markdown",
   "metadata": {},
   "source": [
    "#### `initialization()`\n",
    "`initialization()` erstellt zufällige Lösungs-Vorschläge der Klasse `Solution`, indem die gleichnamige Methode `Solution` aufgerufen wird, bis zur Anzahl definiert in `amount_solutions`.\n",
    "(Setzt damit die `population`-Variable)"
   ]
  },
  {
   "cell_type": "code",
   "execution_count": null,
   "metadata": {},
   "outputs": [],
   "source": [
    "def initialization(initial_set, amount_solutions):\n",
    "    initial_solutions = []\n",
    "    for i in range(amount_solutions):\n",
    "        initial_solutions.append(Solution(initial_set))\n",
    "    return initial_solutions"
   ]
  },
  {
   "cell_type": "markdown",
   "metadata": {},
   "source": [
    "#### `Solution`\n",
    "Die Klasse besteht aus den Teilen:\n",
    "- `initial_set` : Gleich der Variable, die in [`main()`](#main) gesetzt wurde\n",
    "- `solution` : Zufällig generierte binäre Abfolge, durch [`generate_solutions()`](#generate_solutions)\n",
    "- `total_sum` : Summe der Werte aus `initial_set`\n",
    "- `fitness` : Bewertung der Lösung im Vergleich zum ideal Ergebnis, durch [`calculate_fitness`](#calculate_fitness)\n",
    "\n",
    "Auch enthält sie einen Teil um später im Terminal als 'String' ausgegeben werden zu können.\n",
    "Sowie die Funktion `calculate_fitness()`, welche den 'Fitness'-Wert der Lösung bestimmt\n",
    "\n",
    "**TODO**: wie wird Fitness berechnet?"
   ]
  },
  {
   "cell_type": "code",
   "execution_count": null,
   "metadata": {},
   "outputs": [],
   "source": [
    "class Solution:\n",
    "    # initial Set is always bigger 10 so no division by 0 possible in  fitness\n",
    "    def __init__(self, initial_set):\n",
    "        self.initial_set = initial_set\n",
    "        self.solution = generate_solutions(self.initial_set)\n",
    "        self.total_sum = sum(initial_set)\n",
    "        self.fitness = self.calculate_fitness()\n",
    "\n",
    "    def __str__(self):\n",
    "        return f\"Solution: initial_set={self.initial_set}, solution={self.solution}, total_sum={self.total_sum}, fitness={self.fitness}\"\n",
    "\n",
    "    # first implementation of the fitness function\n",
    "    def calculate_fitness(self):\n",
    "        partition = [value for idx, value in enumerate(self.solution) if self.solution[idx] == 1]\n",
    "        fitness = 1 / (abs(sum(partition) - (sum(self.initial_set) / 2)))\n",
    "        return fitness"
   ]
  },
  {
   "cell_type": "markdown",
   "metadata": {},
   "source": [
    "Daraufhin ist der Teil \n",
    "```python\n",
    "# Initialize the population\n",
    "population = back_end.initialization(initial_set, amount_solutions)\n",
    "```\n",
    "von [`run_evolutionary_algorithm`](#run_evolutionary_algorithm) erfüllt, womit die Funktion mit \n",
    "```python\n",
    "for _ in range(generations):\n",
    "        # Select the best individuals from the population\n",
    "        population = back_end.best_fitness_selection(population, 10)\n",
    "        \n",
    "        # Apply mutation to the selected individuals\n",
    "        population = back_end.mutate(population, mutation_factor=4)\n",
    "\n",
    "        # Perform crossover to generate the next generation\n",
    "        population = back_end.random_crossover(population, amount_solutions)\n",
    "```\n",
    "weitermacht. \n",
    "Zunächst: [`best_fitness_selection()`](#best_fitness_selection())"
   ]
  },
  {
   "cell_type": "markdown",
   "metadata": {},
   "source": [
    "#### `best_fitness_selection()`\n",
    "Diese Funktion ist für den Selektion in unserem Algorithmus zuständig.\n",
    "`best_fitness_selection()` sortiert die Lösungen anhand ihrer 'Fitness' und gibt die Top-10 dieser zurück.\n",
    "(Überschreibt die `population`-Variable)"
   ]
  },
  {
   "cell_type": "code",
   "execution_count": null,
   "metadata": {},
   "outputs": [],
   "source": [
    "def best_fitness_selection(solutions, output_amount):\n",
    "    return sorted(solutions,key=lambda x: x.fitness, reverse=True)[:output_amount]"
   ]
  },
  {
   "cell_type": "markdown",
   "metadata": {},
   "source": [
    "#### `mutate()`\n",
    "Diese Funktion ist für Mutation in unserem Algorithmus zuständig.\n",
    "`mutate()` ändert eine zufällige Stelle der binären Abfolge (0->1 oder 1->0)\n",
    "\n",
    "**TODO** Anstelle von `random.choice([0, 1])` könnte der Betrag von `solution[i] - 1` genommen werden, damit eine Änderung von 1->1 oder 0->0 nicht mehr möglich ist.\n",
    "(Überschreibt die `population`-Variable)"
   ]
  },
  {
   "cell_type": "code",
   "execution_count": null,
   "metadata": {},
   "outputs": [],
   "source": [
    "import random\n",
    "def mutate(solutions, mutation_factor=1):\n",
    "    # TODO: check if mutation from 1 to 1 should be possilbe, or to just flip values\n",
    "    # chose a mutation_factor between 0 and length of the solution. we will then choose random positions of solution to\n",
    "    # redraw the values,the amount based on the mutation_factor\n",
    "    # we use range() plus len() to choose which positions of the solutions to change\n",
    "    for solution in solutions:\n",
    "        mutations = random.sample(range(len(solution.solution)), mutation_factor)\n",
    "        for i in mutations:\n",
    "            solution.solution[i] = random.choice([0, 1])\n",
    "    return solutions"
   ]
  },
  {
   "cell_type": "markdown",
   "metadata": {},
   "source": [
    "#### `random_crossover()`\n",
    "Diese Funktion ist für die Rekombination in unserem Algorithmus zuständig.\n",
    "`random_crossover()` wählt aus der `population` zufällig zwei 'Eltern' aus, von denen zufällige 'Gen-Paare' miteinader getauscht werden um eine neue Lösung zu generieren.\n",
    "(Überschreibt die `population`-Variable)"
   ]
  },
  {
   "cell_type": "code",
   "execution_count": null,
   "metadata": {},
   "outputs": [],
   "source": [
    "def random_crossover(parent_solutions, num_children):\n",
    "    \"\"\"\n",
    "    Perform random crossover between a list of parent solutions.\n",
    "\n",
    "    This method randomly selects each gene from either parent with equal probability\n",
    "    to produce a specified number of child solutions.\n",
    "\n",
    "    Args:\n",
    "    - parent_solutions (list): A list of parent solutions, where each solution is represented as a list.\n",
    "    - num_children (int): The number of child solutions to generate.\n",
    "\n",
    "    Returns:\n",
    "    - list: A list of child solutions resulting from the crossover operation.\n",
    "    \"\"\"\n",
    "\n",
    "\n",
    "    children = []\n",
    "    for _ in range(num_children):\n",
    "        # Randomly select parents\n",
    "        parent1 = random.choice(parent_solutions)\n",
    "        parent2 = random.choice(parent_solutions)\n",
    "\n",
    "        # Perform random crossover\n",
    "        child=Solution(initial_set=parent1.initial_set)\n",
    "        child.solution = [random.choice(gene_pair) for gene_pair in zip(parent1.solution, parent2.solution)]\n",
    "\n",
    "        children.append(child)\n",
    "\n",
    "    return children"
   ]
  },
  {
   "cell_type": "markdown",
   "metadata": {},
   "source": [
    "#### `run_evolutionary_algorithm()` -> Ergebnis & return\n",
    "([Hauptabschnitt](#run_evolutionary_algorithm))\n",
    "\n",
    "Nach Selektion, Mutation, und Rekombination der ganzen Population, bis zur Anzahl der definierten Generationen, wird die endgültige Population noch ein mal an hand der 'Fitness' sortiert und an [`find_best_solution`](#find_best_solution) zurück gegeben:\n",
    "```python\n",
    "    # Sort the final population by fitness\n",
    "    population.sort(key=lambda x: x.fitness, reverse=True)\n",
    "\n",
    "    return population\n",
    "```"
   ]
  },
  {
   "cell_type": "markdown",
   "metadata": {},
   "source": [
    "#### `find_best_solution()` -> Ergebnis & return\n",
    "\n",
    "([Hauptabschnitt](#find_best_solution))\n",
    "\n",
    "Mit der endgültigen Population, von [`run_evolutionary_algorithm()`](#run_evolutionary_algorithm---ergebnis--return) wird der Eintrag mit der besten 'Fitness' ausgewählt und an [`main()`](#main) zurück gegeben.\n",
    "```python\n",
    "    # Select the best solution from the final population\n",
    "    best_solution = back_end.best_fitness_selection(result_population, 1)[0]\n",
    "\n",
    "    return best_solution\n",
    "```"
   ]
  },
  {
   "cell_type": "markdown",
   "metadata": {},
   "source": [
    "#### `main()` -> Ergebnis\n",
    "\n",
    "([Hauptabschnitt](#main))\n",
    "\n",
    "`main()` gibt zuletzt das beste gefundene Ergebniss im Terminal aus, und das Programm ist beendet.\n",
    "```python\n",
    "    print(\"Best solution so far:\")\n",
    "    print(best_solution)\n",
    "```"
   ]
  }
 ],
 "metadata": {
  "kernelspec": {
   "display_name": "Python 3",
   "language": "python",
   "name": "python3"
  },
  "language_info": {
   "name": "python",
   "version": "2.7.0"
  }
 },
 "nbformat": 4,
 "nbformat_minor": 2
}
